{
 "cells": [
  {
   "cell_type": "code",
   "execution_count": 21,
   "metadata": {},
   "outputs": [],
   "source": [
    "import pandas as pd\n",
    "import numpy as np\n",
    "import matplotlib.pyplot as plt\n",
    "import seaborn as sns\n",
    "import datetime as dt"
   ]
  },
  {
   "cell_type": "code",
   "execution_count": 22,
   "metadata": {},
   "outputs": [],
   "source": [
    "# sales = name of main dataframe AFTER it has been cleaned up & merged\n",
    "# cpi = inflation table\n",
    "# joblessclaims = unemployment table\n",
    "# train = unfiltered Walmart Sales Data"
   ]
  },
  {
   "cell_type": "code",
   "execution_count": 41,
   "metadata": {},
   "outputs": [],
   "source": [
    "cpi = pd.read_csv('cpi.csv')\n",
    "train = pd.read_csv('train.csv') \n"
   ]
  },
  {
   "cell_type": "code",
   "execution_count": 42,
   "metadata": {},
   "outputs": [],
   "source": [
    "# Start Date for Walmart Data = 2/5/2010 or 05/02/2010\n",
    "# End Date for Walmart Data = 10/26/2012"
   ]
  },
  {
   "cell_type": "code",
   "execution_count": 51,
   "metadata": {},
   "outputs": [],
   "source": [
    "col_names = ['Date', 'Claims']\n",
    "joblessclaims = pd.read_csv('initial_joblessclaims.csv', header = None, names=col_names,)\n",
    "\n",
    "#Slice only the dates from the list\n",
    "joblessclaims = joblessclaims.iloc[24:, :]\n",
    "\n"
   ]
  },
  {
   "cell_type": "code",
   "execution_count": 55,
   "metadata": {},
   "outputs": [
    {
     "name": "stdout",
     "output_type": "stream",
     "text": [
      "<class 'pandas.core.frame.DataFrame'>\n",
      "RangeIndex: 2700 entries, 24 to 2723\n",
      "Data columns (total 2 columns):\n",
      "Date      2700 non-null object\n",
      "Claims    2700 non-null object\n",
      "dtypes: object(2)\n",
      "memory usage: 42.3+ KB\n"
     ]
    }
   ],
   "source": [
    "joblessclaims.info()"
   ]
  },
  {
   "cell_type": "code",
   "execution_count": 12,
   "metadata": {},
   "outputs": [
    {
     "data": {
      "text/plain": [
       "array([['Region', 'United States'],\n",
       "       ['Frequency', 'Weekly beginning at Saturday'],\n",
       "       ['Unit', 'Person th'],\n",
       "       ...,\n",
       "       ['15/09/2018', '169.155'],\n",
       "       ['22/09/2018', '177.573'],\n",
       "       ['29/09/2018', '165.215']], dtype=object)"
      ]
     },
     "execution_count": 12,
     "metadata": {},
     "output_type": "execute_result"
    }
   ],
   "source": [
    "    #joblessclaims.columns = ['Date', 'Jobless Claims']\n",
    "#joblessclaims = np.array(joblessclaims)\n"
   ]
  },
  {
   "cell_type": "code",
   "execution_count": 2,
   "metadata": {},
   "outputs": [],
   "source": [
    "# # setup the dataframe\n",
    "# cpi = pd.read_csv(\"initial_joblessclaims.csv\", na_values=[\"0\"],\n",
    "#                 parse_dates=['Date'])\n",
    "# df.to_csv('new.csv', index=True, columns=fields)\n",
    "\n",
    "# dt = pd.date_range(\"08-11-2014\",\"08-27-2014\", index=True)\n",
    "# #idx = pd.DatetimeIndex(dt, index=True)"
   ]
  },
  {
   "cell_type": "code",
   "execution_count": null,
   "metadata": {},
   "outputs": [],
   "source": []
  },
  {
   "cell_type": "code",
   "execution_count": 14,
   "metadata": {},
   "outputs": [
    {
     "ename": "TypeError",
     "evalue": "'method' object is not subscriptable",
     "output_type": "error",
     "traceback": [
      "\u001b[1;31m---------------------------------------------------------------------------\u001b[0m",
      "\u001b[1;31mTypeError\u001b[0m                                 Traceback (most recent call last)",
      "\u001b[1;32m<ipython-input-14-03882e9f42e0>\u001b[0m in \u001b[0;36m<module>\u001b[1;34m()\u001b[0m\n\u001b[1;32m----> 1\u001b[1;33m \u001b[0mcpi\u001b[0m\u001b[1;33m.\u001b[0m\u001b[0mappend\u001b[0m\u001b[1;33m[\u001b[0m\u001b[1;34m\"Column\"\u001b[0m\u001b[1;33m]\u001b[0m\u001b[1;33m\u001b[0m\u001b[0m\n\u001b[0m",
      "\u001b[1;31mTypeError\u001b[0m: 'method' object is not subscriptable"
     ]
    }
   ],
   "source": [
    "cpi.append[\"Column\"]"
   ]
  },
  {
   "cell_type": "code",
   "execution_count": null,
   "metadata": {},
   "outputs": [],
   "source": [
    "# Use for loop to search for the month to correspond to dates in \"train\" and \"joblesssclaims\".  "
   ]
  }
 ],
 "metadata": {
  "kernelspec": {
   "display_name": "Python 3",
   "language": "python",
   "name": "python3"
  },
  "language_info": {
   "codemirror_mode": {
    "name": "ipython",
    "version": 3
   },
   "file_extension": ".py",
   "mimetype": "text/x-python",
   "name": "python",
   "nbconvert_exporter": "python",
   "pygments_lexer": "ipython3",
   "version": "3.6.5"
  }
 },
 "nbformat": 4,
 "nbformat_minor": 2
}
