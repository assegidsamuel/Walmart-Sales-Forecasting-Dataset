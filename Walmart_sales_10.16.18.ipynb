{
 "cells": [
  {
   "cell_type": "markdown",
   "metadata": {},
   "source": [
    "# Comparison of Walmart Data, CPI Data, and Unemployment Claims Data"
   ]
  },
  {
   "cell_type": "code",
   "execution_count": 1,
   "metadata": {},
   "outputs": [],
   "source": [
    "import pandas as pd\n",
    "import numpy as np\n",
    "import matplotlib.pyplot as plt\n",
    "import seaborn as sns\n",
    "import datetime as dt\n"
   ]
  },
  {
   "cell_type": "code",
   "execution_count": null,
   "metadata": {},
   "outputs": [],
   "source": [
    "# sales = name of main dataframe AFTER it has been cleaned up & merged\n",
    "# cpi = inflation table\n",
    "# joblessclaims = unemployment table\n",
    "# train = unfiltered Walmart Sales Data"
   ]
  },
  {
   "cell_type": "code",
   "execution_count": 2,
   "metadata": {},
   "outputs": [],
   "source": [
    "# Read cpi.csv\n",
    "CPIColNames = ['Date', 'CPI']\n",
    "cpiRaw = pd.read_csv('cpi.csv', parse_dates=['Date'], header=None, index_col = 0, names=CPIColNames)\n",
    "\n",
    "\n",
    "# Read Jobless Claims Data csv\n",
    "JobColNames = ['Date', 'Claims']\n",
    "joblessclaims = pd.read_csv('initial_joblessclaims.csv', parse_dates=True, index_col = 0, header = None, names=JobColNames)\n",
    "\n",
    "\n",
    "# Read the Walmart Sales Data csv\n",
    "train = pd.read_csv('train.csv')\n",
    "\n"
   ]
  },
  {
   "cell_type": "code",
   "execution_count": null,
   "metadata": {},
   "outputs": [],
   "source": []
  },
  {
   "cell_type": "code",
   "execution_count": null,
   "metadata": {},
   "outputs": [],
   "source": [
    "\n"
   ]
  },
  {
   "cell_type": "code",
   "execution_count": 3,
   "metadata": {},
   "outputs": [],
   "source": [
    "# Slice out the selected CPI months from February 2010 through October 2012\n",
    "cpi = cpiRaw.loc['Feb-10':'Oct-12', :]\n",
    "cpi.reset_index(inplace=True)\n",
    "\n",
    "# Slice only the Jobless Claims dates from from February 2010 through October 2012\n",
    "JoblessClaims = joblessclaims.loc['06/2/2010':'27/10/2012', :]\n",
    "JoblessClaims = pd.DataFrame(JoblessClaims)\n"
   ]
  },
  {
   "cell_type": "markdown",
   "metadata": {},
   "source": [
    "# Change all data types to Datetime and Float "
   ]
  },
  {
   "cell_type": "code",
   "execution_count": 4,
   "metadata": {},
   "outputs": [],
   "source": [
    "# Slice out store one's information \n",
    "train_subset = train[:14019]"
   ]
  },
  {
   "cell_type": "code",
   "execution_count": 5,
   "metadata": {},
   "outputs": [
    {
     "name": "stderr",
     "output_type": "stream",
     "text": [
      "C:\\Users\\Darrell\\Anaconda3\\lib\\site-packages\\ipykernel_launcher.py:6: SettingWithCopyWarning: \n",
      "A value is trying to be set on a copy of a slice from a DataFrame.\n",
      "Try using .loc[row_indexer,col_indexer] = value instead\n",
      "\n",
      "See the caveats in the documentation: http://pandas.pydata.org/pandas-docs/stable/indexing.html#indexing-view-versus-copy\n",
      "  \n",
      "C:\\Users\\Darrell\\Anaconda3\\lib\\site-packages\\ipykernel_launcher.py:10: SettingWithCopyWarning: \n",
      "A value is trying to be set on a copy of a slice from a DataFrame.\n",
      "Try using .loc[row_indexer,col_indexer] = value instead\n",
      "\n",
      "See the caveats in the documentation: http://pandas.pydata.org/pandas-docs/stable/indexing.html#indexing-view-versus-copy\n",
      "  # Remove the CWD from sys.path while we load stuff.\n"
     ]
    }
   ],
   "source": [
    "# Convert to JoblessClaims DateTime\n",
    "JoblessClaims.reset_index(inplace=True)\n",
    "JoblessClaims['Date'] = pd.to_datetime(JoblessClaims['Date'],dayfirst=True)\n",
    "\n",
    "# Convert train to Datetime\n",
    "train_subset[\"datetime_Date\"] = pd.to_datetime(train_subset.Date)\n",
    "\n",
    "\n",
    "# Convert cpi to Datetime\n",
    "cpi[\"cpi_date\"] = pd.to_datetime(cpi.Date, format=\"%b-%y\")"
   ]
  },
  {
   "cell_type": "code",
   "execution_count": 6,
   "metadata": {},
   "outputs": [
    {
     "data": {
      "text/plain": [
       "Date      datetime64[ns]\n",
       "Claims            object\n",
       "dtype: object"
      ]
     },
     "execution_count": 6,
     "metadata": {},
     "output_type": "execute_result"
    }
   ],
   "source": [
    "# Check JoblessClaims data types\n",
    "JoblessClaims.dtypes"
   ]
  },
  {
   "cell_type": "code",
   "execution_count": 7,
   "metadata": {},
   "outputs": [
    {
     "data": {
      "text/plain": [
       "Date                object\n",
       "CPI                 object\n",
       "cpi_date    datetime64[ns]\n",
       "dtype: object"
      ]
     },
     "execution_count": 7,
     "metadata": {},
     "output_type": "execute_result"
    }
   ],
   "source": [
    "# Check cpi data types\n",
    "cpi.dtypes"
   ]
  },
  {
   "cell_type": "code",
   "execution_count": 8,
   "metadata": {},
   "outputs": [
    {
     "data": {
      "text/plain": [
       "Store             int64\n",
       "Dept              int64\n",
       "Date             object\n",
       "Weekly_Sales    float64\n",
       "IsHoliday          bool\n",
       "dtype: object"
      ]
     },
     "execution_count": 8,
     "metadata": {},
     "output_type": "execute_result"
    }
   ],
   "source": [
    "# Check train data types\n",
    "train.dtypes"
   ]
  },
  {
   "cell_type": "code",
   "execution_count": 9,
   "metadata": {},
   "outputs": [
    {
     "data": {
      "text/plain": [
       "Store                     int64\n",
       "Dept                      int64\n",
       "Date                     object\n",
       "Weekly_Sales            float64\n",
       "IsHoliday                  bool\n",
       "datetime_Date    datetime64[ns]\n",
       "dtype: object"
      ]
     },
     "execution_count": 9,
     "metadata": {},
     "output_type": "execute_result"
    }
   ],
   "source": [
    "# Confirm we have the right datetime data type\n",
    "train_subset.dtypes"
   ]
  },
  {
   "cell_type": "code",
   "execution_count": null,
   "metadata": {},
   "outputs": [],
   "source": []
  },
  {
   "cell_type": "code",
   "execution_count": 10,
   "metadata": {},
   "outputs": [],
   "source": [
    "# Format Jobless Claims dates to match train Dataframe\n",
    "JoblessClaims.Date + dt.timedelta(days=-1)\n",
    "JoblessClaims[\"Date_sub1\"] = JoblessClaims.Date + dt.timedelta(days=-1)\n",
    "JoblessClaims[\"jobless_date\"] = JoblessClaims.apply(lambda x: x[\"Date_sub1\"].replace(day=1),axis=1)"
   ]
  },
  {
   "cell_type": "code",
   "execution_count": 11,
   "metadata": {},
   "outputs": [
    {
     "name": "stderr",
     "output_type": "stream",
     "text": [
      "C:\\Users\\Darrell\\Anaconda3\\lib\\site-packages\\ipykernel_launcher.py:2: SettingWithCopyWarning: \n",
      "A value is trying to be set on a copy of a slice from a DataFrame.\n",
      "Try using .loc[row_indexer,col_indexer] = value instead\n",
      "\n",
      "See the caveats in the documentation: http://pandas.pydata.org/pandas-docs/stable/indexing.html#indexing-view-versus-copy\n",
      "  \n"
     ]
    },
    {
     "data": {
      "text/html": [
       "<div>\n",
       "<style scoped>\n",
       "    .dataframe tbody tr th:only-of-type {\n",
       "        vertical-align: middle;\n",
       "    }\n",
       "\n",
       "    .dataframe tbody tr th {\n",
       "        vertical-align: top;\n",
       "    }\n",
       "\n",
       "    .dataframe thead th {\n",
       "        text-align: right;\n",
       "    }\n",
       "</style>\n",
       "<table border=\"1\" class=\"dataframe\">\n",
       "  <thead>\n",
       "    <tr style=\"text-align: right;\">\n",
       "      <th></th>\n",
       "      <th>Store</th>\n",
       "      <th>Dept</th>\n",
       "      <th>Date</th>\n",
       "      <th>Weekly_Sales</th>\n",
       "      <th>IsHoliday</th>\n",
       "      <th>datetime_Date</th>\n",
       "      <th>train_date</th>\n",
       "    </tr>\n",
       "  </thead>\n",
       "  <tbody>\n",
       "    <tr>\n",
       "      <th>0</th>\n",
       "      <td>1</td>\n",
       "      <td>1</td>\n",
       "      <td>2/5/2010</td>\n",
       "      <td>24924.50</td>\n",
       "      <td>False</td>\n",
       "      <td>2010-02-05</td>\n",
       "      <td>2010-02-01</td>\n",
       "    </tr>\n",
       "    <tr>\n",
       "      <th>1</th>\n",
       "      <td>1</td>\n",
       "      <td>1</td>\n",
       "      <td>2/12/2010</td>\n",
       "      <td>46039.49</td>\n",
       "      <td>True</td>\n",
       "      <td>2010-02-12</td>\n",
       "      <td>2010-02-01</td>\n",
       "    </tr>\n",
       "    <tr>\n",
       "      <th>2</th>\n",
       "      <td>1</td>\n",
       "      <td>1</td>\n",
       "      <td>2/19/2010</td>\n",
       "      <td>41595.55</td>\n",
       "      <td>False</td>\n",
       "      <td>2010-02-19</td>\n",
       "      <td>2010-02-01</td>\n",
       "    </tr>\n",
       "    <tr>\n",
       "      <th>3</th>\n",
       "      <td>1</td>\n",
       "      <td>1</td>\n",
       "      <td>2/26/2010</td>\n",
       "      <td>19403.54</td>\n",
       "      <td>False</td>\n",
       "      <td>2010-02-26</td>\n",
       "      <td>2010-02-01</td>\n",
       "    </tr>\n",
       "    <tr>\n",
       "      <th>4</th>\n",
       "      <td>1</td>\n",
       "      <td>1</td>\n",
       "      <td>3/5/2010</td>\n",
       "      <td>21827.90</td>\n",
       "      <td>False</td>\n",
       "      <td>2010-03-05</td>\n",
       "      <td>2010-03-01</td>\n",
       "    </tr>\n",
       "  </tbody>\n",
       "</table>\n",
       "</div>"
      ],
      "text/plain": [
       "   Store  Dept       Date  Weekly_Sales  IsHoliday datetime_Date train_date\n",
       "0      1     1   2/5/2010      24924.50      False    2010-02-05 2010-02-01\n",
       "1      1     1  2/12/2010      46039.49       True    2010-02-12 2010-02-01\n",
       "2      1     1  2/19/2010      41595.55      False    2010-02-19 2010-02-01\n",
       "3      1     1  2/26/2010      19403.54      False    2010-02-26 2010-02-01\n",
       "4      1     1   3/5/2010      21827.90      False    2010-03-05 2010-03-01"
      ]
     },
     "execution_count": 11,
     "metadata": {},
     "output_type": "execute_result"
    }
   ],
   "source": [
    "# Add a column that formats date so we can merge the three dataframes\n",
    "train_subset['train_date'] = train_subset.apply(lambda x: x[\"datetime_Date\"].replace(day=1),axis=1)\n",
    "train_subset.head()"
   ]
  },
  {
   "cell_type": "markdown",
   "metadata": {},
   "source": [
    "# Combine the three Dataframes"
   ]
  },
  {
   "cell_type": "code",
   "execution_count": 12,
   "metadata": {},
   "outputs": [],
   "source": [
    "# Merge train_subset with cpi Dataframes\n",
    "merge1 = pd.merge(train_subset, cpi, how='inner', on=None, left_on='train_date', right_on='cpi_date',\n",
    "         left_index=False, right_index=False, sort=True,\n",
    "         suffixes=('_x', '_y'), copy=True, indicator=False,\n",
    "         validate=None)\n"
   ]
  },
  {
   "cell_type": "code",
   "execution_count": 13,
   "metadata": {},
   "outputs": [
    {
     "data": {
      "text/html": [
       "<div>\n",
       "<style scoped>\n",
       "    .dataframe tbody tr th:only-of-type {\n",
       "        vertical-align: middle;\n",
       "    }\n",
       "\n",
       "    .dataframe tbody tr th {\n",
       "        vertical-align: top;\n",
       "    }\n",
       "\n",
       "    .dataframe thead th {\n",
       "        text-align: right;\n",
       "    }\n",
       "</style>\n",
       "<table border=\"1\" class=\"dataframe\">\n",
       "  <thead>\n",
       "    <tr style=\"text-align: right;\">\n",
       "      <th></th>\n",
       "      <th>Store</th>\n",
       "      <th>Dept</th>\n",
       "      <th>Date_x</th>\n",
       "      <th>Weekly_Sales</th>\n",
       "      <th>IsHoliday</th>\n",
       "      <th>datetime_Date</th>\n",
       "      <th>train_date</th>\n",
       "      <th>Date_y</th>\n",
       "      <th>CPI</th>\n",
       "      <th>cpi_date</th>\n",
       "      <th>Date</th>\n",
       "      <th>Claims</th>\n",
       "      <th>Date_sub1</th>\n",
       "      <th>jobless_date</th>\n",
       "    </tr>\n",
       "  </thead>\n",
       "  <tbody>\n",
       "    <tr>\n",
       "      <th>0</th>\n",
       "      <td>1</td>\n",
       "      <td>1</td>\n",
       "      <td>2/5/2010</td>\n",
       "      <td>24924.50</td>\n",
       "      <td>False</td>\n",
       "      <td>2010-02-05</td>\n",
       "      <td>2010-02-01</td>\n",
       "      <td>Feb-10</td>\n",
       "      <td>173.419</td>\n",
       "      <td>2010-02-01</td>\n",
       "      <td>2010-02-06</td>\n",
       "      <td>512.463</td>\n",
       "      <td>2010-02-05</td>\n",
       "      <td>2010-02-01</td>\n",
       "    </tr>\n",
       "    <tr>\n",
       "      <th>1</th>\n",
       "      <td>1</td>\n",
       "      <td>2</td>\n",
       "      <td>2/5/2010</td>\n",
       "      <td>50605.27</td>\n",
       "      <td>False</td>\n",
       "      <td>2010-02-05</td>\n",
       "      <td>2010-02-01</td>\n",
       "      <td>Feb-10</td>\n",
       "      <td>173.419</td>\n",
       "      <td>2010-02-01</td>\n",
       "      <td>2010-02-06</td>\n",
       "      <td>512.463</td>\n",
       "      <td>2010-02-05</td>\n",
       "      <td>2010-02-01</td>\n",
       "    </tr>\n",
       "    <tr>\n",
       "      <th>2</th>\n",
       "      <td>1</td>\n",
       "      <td>3</td>\n",
       "      <td>2/5/2010</td>\n",
       "      <td>13740.12</td>\n",
       "      <td>False</td>\n",
       "      <td>2010-02-05</td>\n",
       "      <td>2010-02-01</td>\n",
       "      <td>Feb-10</td>\n",
       "      <td>173.419</td>\n",
       "      <td>2010-02-01</td>\n",
       "      <td>2010-02-06</td>\n",
       "      <td>512.463</td>\n",
       "      <td>2010-02-05</td>\n",
       "      <td>2010-02-01</td>\n",
       "    </tr>\n",
       "    <tr>\n",
       "      <th>3</th>\n",
       "      <td>1</td>\n",
       "      <td>4</td>\n",
       "      <td>2/5/2010</td>\n",
       "      <td>39954.04</td>\n",
       "      <td>False</td>\n",
       "      <td>2010-02-05</td>\n",
       "      <td>2010-02-01</td>\n",
       "      <td>Feb-10</td>\n",
       "      <td>173.419</td>\n",
       "      <td>2010-02-01</td>\n",
       "      <td>2010-02-06</td>\n",
       "      <td>512.463</td>\n",
       "      <td>2010-02-05</td>\n",
       "      <td>2010-02-01</td>\n",
       "    </tr>\n",
       "    <tr>\n",
       "      <th>4</th>\n",
       "      <td>1</td>\n",
       "      <td>5</td>\n",
       "      <td>2/5/2010</td>\n",
       "      <td>32229.38</td>\n",
       "      <td>False</td>\n",
       "      <td>2010-02-05</td>\n",
       "      <td>2010-02-01</td>\n",
       "      <td>Feb-10</td>\n",
       "      <td>173.419</td>\n",
       "      <td>2010-02-01</td>\n",
       "      <td>2010-02-06</td>\n",
       "      <td>512.463</td>\n",
       "      <td>2010-02-05</td>\n",
       "      <td>2010-02-01</td>\n",
       "    </tr>\n",
       "  </tbody>\n",
       "</table>\n",
       "</div>"
      ],
      "text/plain": [
       "   Store  Dept    Date_x  Weekly_Sales  IsHoliday datetime_Date train_date  \\\n",
       "0      1     1  2/5/2010      24924.50      False    2010-02-05 2010-02-01   \n",
       "1      1     2  2/5/2010      50605.27      False    2010-02-05 2010-02-01   \n",
       "2      1     3  2/5/2010      13740.12      False    2010-02-05 2010-02-01   \n",
       "3      1     4  2/5/2010      39954.04      False    2010-02-05 2010-02-01   \n",
       "4      1     5  2/5/2010      32229.38      False    2010-02-05 2010-02-01   \n",
       "\n",
       "   Date_y      CPI   cpi_date       Date   Claims  Date_sub1 jobless_date  \n",
       "0  Feb-10  173.419 2010-02-01 2010-02-06  512.463 2010-02-05   2010-02-01  \n",
       "1  Feb-10  173.419 2010-02-01 2010-02-06  512.463 2010-02-05   2010-02-01  \n",
       "2  Feb-10  173.419 2010-02-01 2010-02-06  512.463 2010-02-05   2010-02-01  \n",
       "3  Feb-10  173.419 2010-02-01 2010-02-06  512.463 2010-02-05   2010-02-01  \n",
       "4  Feb-10  173.419 2010-02-01 2010-02-06  512.463 2010-02-05   2010-02-01  "
      ]
     },
     "execution_count": 13,
     "metadata": {},
     "output_type": "execute_result"
    }
   ],
   "source": [
    "# Merge merge1 with JoblessCLaims Dataframes\n",
    "merge2 = pd.merge(merge1, JoblessClaims, how='left', on=None, left_on='datetime_Date', right_on='Date_sub1',\n",
    "         left_index=False, right_index=False, sort=True,\n",
    "         suffixes=('_x', '_y'), copy=True, indicator=False,\n",
    "         validate=None)\n",
    "merge2.head()"
   ]
  },
  {
   "cell_type": "code",
   "execution_count": 14,
   "metadata": {},
   "outputs": [
    {
     "data": {
      "text/html": [
       "<div>\n",
       "<style scoped>\n",
       "    .dataframe tbody tr th:only-of-type {\n",
       "        vertical-align: middle;\n",
       "    }\n",
       "\n",
       "    .dataframe tbody tr th {\n",
       "        vertical-align: top;\n",
       "    }\n",
       "\n",
       "    .dataframe thead th {\n",
       "        text-align: right;\n",
       "    }\n",
       "</style>\n",
       "<table border=\"1\" class=\"dataframe\">\n",
       "  <thead>\n",
       "    <tr style=\"text-align: right;\">\n",
       "      <th></th>\n",
       "      <th>Store</th>\n",
       "      <th>Dept</th>\n",
       "      <th>Weekly_Sales</th>\n",
       "      <th>IsHoliday</th>\n",
       "      <th>datetime_Date</th>\n",
       "      <th>CPI</th>\n",
       "      <th>Claims</th>\n",
       "    </tr>\n",
       "  </thead>\n",
       "  <tbody>\n",
       "    <tr>\n",
       "      <th>0</th>\n",
       "      <td>1</td>\n",
       "      <td>1</td>\n",
       "      <td>24924.50</td>\n",
       "      <td>False</td>\n",
       "      <td>2010-02-05</td>\n",
       "      <td>173.419</td>\n",
       "      <td>512.463</td>\n",
       "    </tr>\n",
       "    <tr>\n",
       "      <th>1</th>\n",
       "      <td>1</td>\n",
       "      <td>2</td>\n",
       "      <td>50605.27</td>\n",
       "      <td>False</td>\n",
       "      <td>2010-02-05</td>\n",
       "      <td>173.419</td>\n",
       "      <td>512.463</td>\n",
       "    </tr>\n",
       "    <tr>\n",
       "      <th>2</th>\n",
       "      <td>1</td>\n",
       "      <td>3</td>\n",
       "      <td>13740.12</td>\n",
       "      <td>False</td>\n",
       "      <td>2010-02-05</td>\n",
       "      <td>173.419</td>\n",
       "      <td>512.463</td>\n",
       "    </tr>\n",
       "    <tr>\n",
       "      <th>3</th>\n",
       "      <td>1</td>\n",
       "      <td>4</td>\n",
       "      <td>39954.04</td>\n",
       "      <td>False</td>\n",
       "      <td>2010-02-05</td>\n",
       "      <td>173.419</td>\n",
       "      <td>512.463</td>\n",
       "    </tr>\n",
       "    <tr>\n",
       "      <th>4</th>\n",
       "      <td>1</td>\n",
       "      <td>5</td>\n",
       "      <td>32229.38</td>\n",
       "      <td>False</td>\n",
       "      <td>2010-02-05</td>\n",
       "      <td>173.419</td>\n",
       "      <td>512.463</td>\n",
       "    </tr>\n",
       "  </tbody>\n",
       "</table>\n",
       "</div>"
      ],
      "text/plain": [
       "   Store  Dept  Weekly_Sales  IsHoliday datetime_Date      CPI   Claims\n",
       "0      1     1      24924.50      False    2010-02-05  173.419  512.463\n",
       "1      1     2      50605.27      False    2010-02-05  173.419  512.463\n",
       "2      1     3      13740.12      False    2010-02-05  173.419  512.463\n",
       "3      1     4      39954.04      False    2010-02-05  173.419  512.463\n",
       "4      1     5      32229.38      False    2010-02-05  173.419  512.463"
      ]
     },
     "execution_count": 14,
     "metadata": {},
     "output_type": "execute_result"
    }
   ],
   "source": [
    "# Clean up and rename the second merged table\n",
    "cleanDf = merge2.drop(columns=['Date_x', 'train_date', 'Date_y', 'cpi_date', 'Date', 'Date_sub1', 'jobless_date'])\n",
    "cleanDf.head()"
   ]
  },
  {
   "cell_type": "code",
   "execution_count": 15,
   "metadata": {},
   "outputs": [
    {
     "data": {
      "text/plain": [
       "Store                     int64\n",
       "Dept                      int64\n",
       "Weekly_Sales            float64\n",
       "IsHoliday                  bool\n",
       "datetime_Date    datetime64[ns]\n",
       "CPI                     float64\n",
       "Claims                  float64\n",
       "dtype: object"
      ]
     },
     "execution_count": 15,
     "metadata": {},
     "output_type": "execute_result"
    }
   ],
   "source": [
    "cleanDf['CPI']=pd.to_numeric(cleanDf['CPI'])\n",
    "cleanDf['Claims']=pd.to_numeric(cleanDf['Claims'])\n",
    "cleanDf.dtypes"
   ]
  },
  {
   "cell_type": "code",
   "execution_count": null,
   "metadata": {},
   "outputs": [],
   "source": [
    "# Slice out store one's information\n",
    "store1 = cleanDf.iloc[1:13993, :]\n",
    "store1.head()"
   ]
  },
  {
   "cell_type": "markdown",
   "metadata": {},
   "source": [
    "# Visualize the Data"
   ]
  },
  {
   "cell_type": "code",
   "execution_count": 16,
   "metadata": {},
   "outputs": [
    {
     "data": {
      "image/png": "[encoded data removed]",
      "text/plain": [
       "<Figure size 432x288 with 1 Axes>"
      ]
     },
     "metadata": {},
     "output_type": "display_data"
    }
   ],
   "source": [
    "dept = cleanDf.groupby(\"Dept\")\n",
    "deptSales = dept[\"Weekly_Sales\"].sum()\n",
    "labels = deptSales.index\n",
    "#chartColors = [colorDict[i] for i in labels]\n",
    "explode = [0, 0, .1]\n",
    "\n",
    "plt.pie(deptSales, startangle = 160, labels = labels, colors = None,autopct = \"%1.1f%%\", shadow = True,) \n",
    "plt.title(\"% of Total Fares by City Type\")\n",
    "plt.axis(\"equal\")\n",
    "plt.show()"
   ]
  },
  {
   "cell_type": "code",
   "execution_count": 17,
   "metadata": {},
   "outputs": [
    {
     "data": {
      "image/png": "[encoded data removed]",
      "text/plain": [
       "<Figure size 432x288 with 2 Axes>"
      ]
     },
     "metadata": {},
     "output_type": "display_data"
    }
   ],
   "source": [
    "fig, ax1 = plt.subplots()\n",
    "\n",
    "color = 'tab:red'\n",
    "ax1.set_xlabel('time (s)')\n",
    "ax1.set_ylabel('exp', color=color)\n",
    "ax1.plot(cleanDf['datetime_Date'], cleanDf['Weekly_Sales'], color=color)\n",
    "ax1.tick_params(axis='y', labelcolor=color)\n",
    "\n",
    "ax2 = ax1.twinx()  # instantiate a second axes that shares the same x-axis\n",
    "\n",
    "color = 'tab:blue'\n",
    "ax2.set_ylabel('sin', color=color)  # we already handled the x-label with ax1\n",
    "ax2.plot(cleanDf['datetime_Date'], cleanDf['Claims'], color=color)\n",
    "ax2.tick_params(axis='y', labelcolor=color)\n",
    "\n",
    "fig.tight_layout()  # otherwise the right y-label is slightly clipped\n",
    "plt.show()"
   ]
  },
  {
   "cell_type": "code",
   "execution_count": 18,
   "metadata": {
    "scrolled": true
   },
   "outputs": [
    {
     "data": {
      "image/png": "[encoded data removed]",
      "text/plain": [
       "<Figure size 432x288 with 2 Axes>"
      ]
     },
     "metadata": {},
     "output_type": "display_data"
    }
   ],
   "source": [
    "fig, ax1 = plt.subplots()\n",
    "\n",
    "color = 'tab:red'\n",
    "ax1.set_xlabel('time (s)')\n",
    "ax1.set_ylabel('exp', color=color)\n",
    "ax1.plot(cleanDf['datetime_Date'], cleanDf['Weekly_Sales'], color=color)\n",
    "ax1.tick_params(axis='y', labelcolor=color)\n",
    "\n",
    "ax2 = ax1.twinx()  # instantiate a second axes that shares the same x-axis\n",
    "\n",
    "color = 'tab:blue'\n",
    "ax2.set_ylabel('sin', color=color)  # we already handled the x-label with ax1\n",
    "ax2.plot(cleanDf['datetime_Date'], cleanDf['CPI'], color=color)\n",
    "ax2.tick_params(axis='y', labelcolor=color)\n",
    "\n",
    "fig.tight_layout()  # otherwise the right y-label is slightly clipped\n",
    "plt.show()"
   ]
  },
  {
   "cell_type": "code",
   "execution_count": 19,
   "metadata": {},
   "outputs": [
    {
     "data": {
      "image/png": "[encoded data removed]",
      "text/plain": [
       "<Figure size 432x288 with 2 Axes>"
      ]
     },
     "metadata": {},
     "output_type": "display_data"
    }
   ],
   "source": [
    "fig, ax1 = plt.subplots()\n",
    "\n",
    "color = 'tab:red'\n",
    "ax1.set_xlabel('time (s)')\n",
    "ax1.set_ylabel('exp', color=color)\n",
    "ax1.plot(cleanDf['datetime_Date'], cleanDf['Weekly_Sales'], color=color)\n",
    "ax1.tick_params(axis='y', labelcolor=color)\n",
    "\n",
    "ax2 = ax1.twinx()  # instantiate a second axes that shares the same x-axis\n",
    "\n",
    "color = 'tab:blue'\n",
    "ax2.set_ylabel('sin', color=color)  # we already handled the x-label with ax1\n",
    "ax2.plot(cleanDf['datetime_Date'], cleanDf['IsHoliday'], color=color)\n",
    "ax2.tick_params(axis='y', labelcolor=color)\n",
    "\n",
    "fig.tight_layout()  # otherwise the right y-label is slightly clipped\n",
    "plt.show()"
   ]
  },
  {
   "cell_type": "code",
   "execution_count": 20,
   "metadata": {},
   "outputs": [],
   "source": [
    "mask = (cleanDf['datetime_Date'] > '2010-02-04') & (cleanDf['datetime_Date'] <= '2010-12-31')\n",
    "\n",
    "cleanDf_2010 = cleanDf.loc[mask]"
   ]
  },
  {
   "cell_type": "code",
   "execution_count": 21,
   "metadata": {},
   "outputs": [
    {
     "data": {
      "image/png": "[encoded data removed]",
      "text/plain": [
       "<Figure size 432x288 with 1 Axes>"
      ]
     },
     "metadata": {},
     "output_type": "display_data"
    }
   ],
   "source": [
    "#plt.ylim(bottom=cpi['CPI'].min()-5, top=cpi['CPI'].max() + 5)  \n",
    "#plt.plot_date(cpi['cpi_date'],cpi['CPI'], fmt='o', tz=None, xdate=True, ydate=False, data=None)\n",
    "plt.plot(cleanDf_2010['datetime_Date'],cleanDf_2010['Weekly_Sales'])\n",
    "\n",
    "plt.show()"
   ]
  },
  {
   "cell_type": "code",
   "execution_count": 22,
   "metadata": {},
   "outputs": [
    {
     "data": {
      "text/html": [
       "<div>\n",
       "<style scoped>\n",
       "    .dataframe tbody tr th:only-of-type {\n",
       "        vertical-align: middle;\n",
       "    }\n",
       "\n",
       "    .dataframe tbody tr th {\n",
       "        vertical-align: top;\n",
       "    }\n",
       "\n",
       "    .dataframe thead th {\n",
       "        text-align: right;\n",
       "    }\n",
       "</style>\n",
       "<table border=\"1\" class=\"dataframe\">\n",
       "  <thead>\n",
       "    <tr style=\"text-align: right;\">\n",
       "      <th></th>\n",
       "      <th>Store</th>\n",
       "      <th>Dept</th>\n",
       "      <th>Weekly_Sales</th>\n",
       "      <th>IsHoliday</th>\n",
       "      <th>datetime_Date</th>\n",
       "      <th>CPI</th>\n",
       "      <th>Claims</th>\n",
       "    </tr>\n",
       "  </thead>\n",
       "  <tbody>\n",
       "    <tr>\n",
       "      <th>4829</th>\n",
       "      <td>1</td>\n",
       "      <td>1</td>\n",
       "      <td>17359.70</td>\n",
       "      <td>False</td>\n",
       "      <td>2011-01-14</td>\n",
       "      <td>177.48</td>\n",
       "      <td>549.688</td>\n",
       "    </tr>\n",
       "    <tr>\n",
       "      <th>4830</th>\n",
       "      <td>1</td>\n",
       "      <td>2</td>\n",
       "      <td>39857.40</td>\n",
       "      <td>False</td>\n",
       "      <td>2011-01-14</td>\n",
       "      <td>177.48</td>\n",
       "      <td>549.688</td>\n",
       "    </tr>\n",
       "    <tr>\n",
       "      <th>4831</th>\n",
       "      <td>1</td>\n",
       "      <td>3</td>\n",
       "      <td>13275.87</td>\n",
       "      <td>False</td>\n",
       "      <td>2011-01-14</td>\n",
       "      <td>177.48</td>\n",
       "      <td>549.688</td>\n",
       "    </tr>\n",
       "    <tr>\n",
       "      <th>4832</th>\n",
       "      <td>1</td>\n",
       "      <td>4</td>\n",
       "      <td>34393.95</td>\n",
       "      <td>False</td>\n",
       "      <td>2011-01-14</td>\n",
       "      <td>177.48</td>\n",
       "      <td>549.688</td>\n",
       "    </tr>\n",
       "    <tr>\n",
       "      <th>4833</th>\n",
       "      <td>1</td>\n",
       "      <td>5</td>\n",
       "      <td>17445.37</td>\n",
       "      <td>False</td>\n",
       "      <td>2011-01-14</td>\n",
       "      <td>177.48</td>\n",
       "      <td>549.688</td>\n",
       "    </tr>\n",
       "    <tr>\n",
       "      <th>4834</th>\n",
       "      <td>1</td>\n",
       "      <td>6</td>\n",
       "      <td>2355.86</td>\n",
       "      <td>False</td>\n",
       "      <td>2011-01-14</td>\n",
       "      <td>177.48</td>\n",
       "      <td>549.688</td>\n",
       "    </tr>\n",
       "    <tr>\n",
       "      <th>4835</th>\n",
       "      <td>1</td>\n",
       "      <td>7</td>\n",
       "      <td>10774.06</td>\n",
       "      <td>False</td>\n",
       "      <td>2011-01-14</td>\n",
       "      <td>177.48</td>\n",
       "      <td>549.688</td>\n",
       "    </tr>\n",
       "    <tr>\n",
       "      <th>4836</th>\n",
       "      <td>1</td>\n",
       "      <td>8</td>\n",
       "      <td>34228.30</td>\n",
       "      <td>False</td>\n",
       "      <td>2011-01-14</td>\n",
       "      <td>177.48</td>\n",
       "      <td>549.688</td>\n",
       "    </tr>\n",
       "    <tr>\n",
       "      <th>4837</th>\n",
       "      <td>1</td>\n",
       "      <td>9</td>\n",
       "      <td>13215.27</td>\n",
       "      <td>False</td>\n",
       "      <td>2011-01-14</td>\n",
       "      <td>177.48</td>\n",
       "      <td>549.688</td>\n",
       "    </tr>\n",
       "    <tr>\n",
       "      <th>4838</th>\n",
       "      <td>1</td>\n",
       "      <td>10</td>\n",
       "      <td>23058.41</td>\n",
       "      <td>False</td>\n",
       "      <td>2011-01-14</td>\n",
       "      <td>177.48</td>\n",
       "      <td>549.688</td>\n",
       "    </tr>\n",
       "  </tbody>\n",
       "</table>\n",
       "</div>"
      ],
      "text/plain": [
       "      Store  Dept  Weekly_Sales  IsHoliday datetime_Date     CPI   Claims\n",
       "4829      1     1      17359.70      False    2011-01-14  177.48  549.688\n",
       "4830      1     2      39857.40      False    2011-01-14  177.48  549.688\n",
       "4831      1     3      13275.87      False    2011-01-14  177.48  549.688\n",
       "4832      1     4      34393.95      False    2011-01-14  177.48  549.688\n",
       "4833      1     5      17445.37      False    2011-01-14  177.48  549.688\n",
       "4834      1     6       2355.86      False    2011-01-14  177.48  549.688\n",
       "4835      1     7      10774.06      False    2011-01-14  177.48  549.688\n",
       "4836      1     8      34228.30      False    2011-01-14  177.48  549.688\n",
       "4837      1     9      13215.27      False    2011-01-14  177.48  549.688\n",
       "4838      1    10      23058.41      False    2011-01-14  177.48  549.688"
      ]
     },
     "execution_count": 22,
     "metadata": {},
     "output_type": "execute_result"
    }
   ],
   "source": [
    "mask = (cleanDf['datetime_Date'] > '2011-01-07') & (cleanDf['datetime_Date'] <= '2011-12-30')\n",
    "\n",
    "cleanDf_2011 = cleanDf.loc[mask]\n",
    "cleanDf_2011.head(10)"
   ]
  },
  {
   "cell_type": "code",
   "execution_count": 23,
   "metadata": {},
   "outputs": [
    {
     "data": {
      "image/png": "[encoded data removed]",
      "text/plain": [
       "<Figure size 432x288 with 1 Axes>"
      ]
     },
     "metadata": {},
     "output_type": "display_data"
    }
   ],
   "source": [
    "#plt.ylim(bottom=cpi['CPI'].min()-5, top=cpi['CPI'].max() + 5)  \n",
    "#plt.plot_date(cpi['cpi_date'],cpi['CPI'], fmt='o', tz=None, xdate=True, ydate=False, data=None)\n",
    "plt.plot(cleanDf_2011['datetime_Date'],cleanDf_2011['Weekly_Sales'])\n",
    "\n",
    "plt.show()"
   ]
  },
  {
   "cell_type": "code",
   "execution_count": 24,
   "metadata": {},
   "outputs": [
    {
     "data": {
      "text/html": [
       "<div>\n",
       "<style scoped>\n",
       "    .dataframe tbody tr th:only-of-type {\n",
       "        vertical-align: middle;\n",
       "    }\n",
       "\n",
       "    .dataframe tbody tr th {\n",
       "        vertical-align: top;\n",
       "    }\n",
       "\n",
       "    .dataframe thead th {\n",
       "        text-align: right;\n",
       "    }\n",
       "</style>\n",
       "<table border=\"1\" class=\"dataframe\">\n",
       "  <thead>\n",
       "    <tr style=\"text-align: right;\">\n",
       "      <th></th>\n",
       "      <th>Store</th>\n",
       "      <th>Dept</th>\n",
       "      <th>Weekly_Sales</th>\n",
       "      <th>IsHoliday</th>\n",
       "      <th>datetime_Date</th>\n",
       "      <th>CPI</th>\n",
       "      <th>Claims</th>\n",
       "    </tr>\n",
       "  </thead>\n",
       "  <tbody>\n",
       "    <tr>\n",
       "      <th>9933</th>\n",
       "      <td>1</td>\n",
       "      <td>1</td>\n",
       "      <td>16894.40</td>\n",
       "      <td>False</td>\n",
       "      <td>2012-01-13</td>\n",
       "      <td>184.636</td>\n",
       "      <td>525.422</td>\n",
       "    </tr>\n",
       "    <tr>\n",
       "      <th>9934</th>\n",
       "      <td>1</td>\n",
       "      <td>2</td>\n",
       "      <td>43353.09</td>\n",
       "      <td>False</td>\n",
       "      <td>2012-01-13</td>\n",
       "      <td>184.636</td>\n",
       "      <td>525.422</td>\n",
       "    </tr>\n",
       "    <tr>\n",
       "      <th>9935</th>\n",
       "      <td>1</td>\n",
       "      <td>3</td>\n",
       "      <td>13822.49</td>\n",
       "      <td>False</td>\n",
       "      <td>2012-01-13</td>\n",
       "      <td>184.636</td>\n",
       "      <td>525.422</td>\n",
       "    </tr>\n",
       "    <tr>\n",
       "      <th>9936</th>\n",
       "      <td>1</td>\n",
       "      <td>4</td>\n",
       "      <td>36582.36</td>\n",
       "      <td>False</td>\n",
       "      <td>2012-01-13</td>\n",
       "      <td>184.636</td>\n",
       "      <td>525.422</td>\n",
       "    </tr>\n",
       "    <tr>\n",
       "      <th>9937</th>\n",
       "      <td>1</td>\n",
       "      <td>5</td>\n",
       "      <td>19281.61</td>\n",
       "      <td>False</td>\n",
       "      <td>2012-01-13</td>\n",
       "      <td>184.636</td>\n",
       "      <td>525.422</td>\n",
       "    </tr>\n",
       "    <tr>\n",
       "      <th>9938</th>\n",
       "      <td>1</td>\n",
       "      <td>6</td>\n",
       "      <td>2460.92</td>\n",
       "      <td>False</td>\n",
       "      <td>2012-01-13</td>\n",
       "      <td>184.636</td>\n",
       "      <td>525.422</td>\n",
       "    </tr>\n",
       "    <tr>\n",
       "      <th>9939</th>\n",
       "      <td>1</td>\n",
       "      <td>7</td>\n",
       "      <td>9194.61</td>\n",
       "      <td>False</td>\n",
       "      <td>2012-01-13</td>\n",
       "      <td>184.636</td>\n",
       "      <td>525.422</td>\n",
       "    </tr>\n",
       "    <tr>\n",
       "      <th>9940</th>\n",
       "      <td>1</td>\n",
       "      <td>8</td>\n",
       "      <td>34033.89</td>\n",
       "      <td>False</td>\n",
       "      <td>2012-01-13</td>\n",
       "      <td>184.636</td>\n",
       "      <td>525.422</td>\n",
       "    </tr>\n",
       "    <tr>\n",
       "      <th>9941</th>\n",
       "      <td>1</td>\n",
       "      <td>9</td>\n",
       "      <td>15416.12</td>\n",
       "      <td>False</td>\n",
       "      <td>2012-01-13</td>\n",
       "      <td>184.636</td>\n",
       "      <td>525.422</td>\n",
       "    </tr>\n",
       "    <tr>\n",
       "      <th>9942</th>\n",
       "      <td>1</td>\n",
       "      <td>10</td>\n",
       "      <td>23995.69</td>\n",
       "      <td>False</td>\n",
       "      <td>2012-01-13</td>\n",
       "      <td>184.636</td>\n",
       "      <td>525.422</td>\n",
       "    </tr>\n",
       "  </tbody>\n",
       "</table>\n",
       "</div>"
      ],
      "text/plain": [
       "      Store  Dept  Weekly_Sales  IsHoliday datetime_Date      CPI   Claims\n",
       "9933      1     1      16894.40      False    2012-01-13  184.636  525.422\n",
       "9934      1     2      43353.09      False    2012-01-13  184.636  525.422\n",
       "9935      1     3      13822.49      False    2012-01-13  184.636  525.422\n",
       "9936      1     4      36582.36      False    2012-01-13  184.636  525.422\n",
       "9937      1     5      19281.61      False    2012-01-13  184.636  525.422\n",
       "9938      1     6       2460.92      False    2012-01-13  184.636  525.422\n",
       "9939      1     7       9194.61      False    2012-01-13  184.636  525.422\n",
       "9940      1     8      34033.89      False    2012-01-13  184.636  525.422\n",
       "9941      1     9      15416.12      False    2012-01-13  184.636  525.422\n",
       "9942      1    10      23995.69      False    2012-01-13  184.636  525.422"
      ]
     },
     "execution_count": 24,
     "metadata": {},
     "output_type": "execute_result"
    }
   ],
   "source": [
    "mask = (cleanDf['datetime_Date'] > '2012-01-06') & (cleanDf['datetime_Date'] <= '2012-10-26')\n",
    "\n",
    "cleanDf_2012 = cleanDf.loc[mask]\n",
    "cleanDf_2012.head(10)"
   ]
  },
  {
   "cell_type": "code",
   "execution_count": 25,
   "metadata": {},
   "outputs": [
    {
     "data": {
      "image/png": "[encoded data removed]",
      "text/plain": [
       "<Figure size 432x288 with 1 Axes>"
      ]
     },
     "metadata": {},
     "output_type": "display_data"
    }
   ],
   "source": [
    "plt.plot(cleanDf_2012['datetime_Date'],cleanDf_2012['Weekly_Sales'])\n",
    "\n",
    "plt.show()"
   ]
  },
  {
   "cell_type": "code",
   "execution_count": null,
   "metadata": {},
   "outputs": [],
   "source": []
  },
  {
   "cell_type": "code",
   "execution_count": null,
   "metadata": {},
   "outputs": [],
   "source": []
  },
  {
   "cell_type": "code",
   "execution_count": null,
   "metadata": {},
   "outputs": [],
   "source": [
    "cpi.plt.plot(kind = scatter)\n",
    "ax = plt.axes()\n",
    "ax.plot(x, np.sin(x))\n",
    "ax.set(xlim=(0, 100), ylim=(0, 2),\n",
    "       xlabel='cpi_date', ylabel='CPI',\n",
    "       title='A Simple Plot')"
   ]
  },
  {
   "cell_type": "code",
   "execution_count": null,
   "metadata": {},
   "outputs": [],
   "source": [
    "plt.bar(store1['Claims'], store1['Weekly_Sales'])\n",
    "plt.show()"
   ]
  },
  {
   "cell_type": "code",
   "execution_count": null,
   "metadata": {},
   "outputs": [],
   "source": [
    "store1 = cleanDf.iloc[0:14046, 1:3]\n",
    "#Store1Sales= store1['Weekly_Sales'].mean()\n",
    "store1 = store1.groupby('Dept')\n",
    "plt.bar(store1['Dept'], store1['Weekly_Sales'])\n"
   ]
  },
  {
   "cell_type": "code",
   "execution_count": null,
   "metadata": {},
   "outputs": [],
   "source": [
    "#plt.bar(cleanDf['Store'], cleanDf['Weekly_Sales'])\n",
    "#cleanDf.iloc[14046]\n",
    "plt.show()"
   ]
  },
  {
   "cell_type": "code",
   "execution_count": null,
   "metadata": {},
   "outputs": [],
   "source": [
    "cleanDf.columns"
   ]
  },
  {
   "cell_type": "code",
   "execution_count": null,
   "metadata": {},
   "outputs": [],
   "source": []
  },
  {
   "cell_type": "code",
   "execution_count": null,
   "metadata": {},
   "outputs": [],
   "source": [
    "# cleanDf = merge2['Store', 'Dept', 'Weekly_Sales', 'IsHoliday', 'datetime_Date', 'CPI', 'Claims']\n",
    "# cleanDf.head()"
   ]
  },
  {
   "cell_type": "code",
   "execution_count": null,
   "metadata": {},
   "outputs": [],
   "source": [
    "merge2.describe()\n",
    "merge2.shape"
   ]
  },
  {
   "cell_type": "code",
   "execution_count": null,
   "metadata": {},
   "outputs": [],
   "source": [
    "#merge2['first_of_month'] = merge2.groupby([merge2['cpi_datetime_parsed'], ['jobless_firstofmonth'], ['train_date']]).mean()\n",
    "#####merge2['DDate'] = merge2['cpi_datetime_parsed'].groupby(merge2['jobless_firstofmonth']) -> THIS RUNS\n",
    "#sales.groupby('cpi_datetime_parsed')['jobless_firstofmonth'].apply(list)\n",
    "# sales = merge2.groupby([merge2['cpi_datetime_parsed', 'jobless_firstofmonth', 'train_date'])\n",
    "#sales.head()\n",
    "#type(merge2)\n"
   ]
  },
  {
   "cell_type": "code",
   "execution_count": null,
   "metadata": {},
   "outputs": [],
   "source": [
    "new = pd.concat([cpi, JoblessClaims, train_subset], axis=0, sort=True)"
   ]
  },
  {
   "cell_type": "code",
   "execution_count": null,
   "metadata": {},
   "outputs": [],
   "source": [
    "new.head()"
   ]
  },
  {
   "cell_type": "code",
   "execution_count": null,
   "metadata": {},
   "outputs": [],
   "source": []
  },
  {
   "cell_type": "code",
   "execution_count": null,
   "metadata": {},
   "outputs": [],
   "source": [
    "new = new.dropna()\n",
    "print(new)"
   ]
  },
  {
   "cell_type": "code",
   "execution_count": null,
   "metadata": {},
   "outputs": [],
   "source": [
    "JobColNames = ['Date', 'Claims']\n",
    "joblessclaims = pd.read_csv('initial_joblessclaims.csv', parse_dates=True, index_col = 0, header = None, names=JobColNames)\n",
    "\n",
    "#Slice only the dates from the list\n",
    "JoblessClaims = joblessclaims.loc['6/2/2010':'27/10/2012', :]\n",
    "\n",
    "# Convert to DateTime\n",
    "#JoblessClaims = pd.to_datetime(joblessclaims['Unnamed: 0'], format='%d%m%y')"
   ]
  },
  {
   "cell_type": "code",
   "execution_count": null,
   "metadata": {},
   "outputs": [],
   "source": [
    "df11 = cpi.set_index(['Date','CPI'])\n",
    "df22 = joblessclaims.set_index(['Date','Claims'])\n",
    "\n",
    "df = df11.combine_first(df22).astype(int).reset_index()"
   ]
  },
  {
   "cell_type": "code",
   "execution_count": null,
   "metadata": {},
   "outputs": [],
   "source": [
    "    #joblessclaims.columns = ['Date', 'Jobless Claims']\n",
    "#joblessclaims = np.array(joblessclaims)\n"
   ]
  },
  {
   "cell_type": "code",
   "execution_count": null,
   "metadata": {},
   "outputs": [],
   "source": [
    "# # setup the dataframe\n",
    "# cpi = pd.read_csv(\"initial_joblessclaims.csv\", na_values=[\"0\"],\n",
    "#                 parse_dates=['Date'])\n",
    "# df.to_csv('new.csv', index=True, columns=fields)\n",
    "\n",
    "# dt = pd.date_range(\"08-11-2014\",\"08-27-2014\", index=True)\n",
    "# #idx = pd.DatetimeIndex(dt, index=True)"
   ]
  },
  {
   "cell_type": "code",
   "execution_count": null,
   "metadata": {},
   "outputs": [],
   "source": []
  },
  {
   "cell_type": "code",
   "execution_count": null,
   "metadata": {},
   "outputs": [],
   "source": [
    "cpi.append[\"Column\"]"
   ]
  },
  {
   "cell_type": "code",
   "execution_count": null,
   "metadata": {},
   "outputs": [],
   "source": [
    "# Use for loop to search for the month to correspond to dates in \"train\" and \"joblesssclaims\".  "
   ]
  }
 ],
 "metadata": {
  "kernelspec": {
   "display_name": "Python 3",
   "language": "python",
   "name": "python3"
  },
  "language_info": {
   "codemirror_mode": {
    "name": "ipython",
    "version": 3
   },
   "file_extension": ".py",
   "mimetype": "text/x-python",
   "name": "python",
   "nbconvert_exporter": "python",
   "pygments_lexer": "ipython3",
   "version": "3.6.5"
  }
 },
 "nbformat": 4,
 "nbformat_minor": 2
}
