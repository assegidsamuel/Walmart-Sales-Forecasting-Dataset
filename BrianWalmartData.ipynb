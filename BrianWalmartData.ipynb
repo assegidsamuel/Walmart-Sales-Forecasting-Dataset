{
 "cells": [
  {
   "cell_type": "code",
   "execution_count": 2,
   "metadata": {},
   "outputs": [],
   "source": [
    "import pandas as pd\n",
    "import numpy as np\n",
    "import matplotlib.pyplot as plt\n",
    "import seaborn as sns\n",
    "import datetime as dt"
   ]
  },
  {
   "cell_type": "code",
   "execution_count": 3,
   "metadata": {},
   "outputs": [],
   "source": [
    "# sales = name of main dataframe AFTER it has been cleaned up & merged\n",
    "# cpi = inflation table\n",
    "# joblessclaims = unemployment table\n",
    "# train = unfiltered Walmart Sales Data"
   ]
  },
  {
   "cell_type": "code",
   "execution_count": 16,
   "metadata": {},
   "outputs": [],
   "source": [
    "# Read cpi.csv\n",
    "CPIColNames = ['Date', 'CPI']\n",
    "cpiRaw = pd.read_csv('cpi.csv', parse_dates=['Date'], header=None, index_col = 0, names=CPIColNames)\n",
    "\n",
    "\n",
    "# Read Jobless Claims Data csv\n",
    "JobColNames = ['Date', 'Claims']\n",
    "joblessclaims = pd.read_csv('initial_joblessclaims.csv', parse_dates=True, index_col = 0, header = None, names=JobColNames)\n",
    "\n",
    "\n",
    "# Read the Walmart Sales Data csv\n",
    "train = pd.read_csv('train.csv')\n",
    "#df.sort_values(by='Date') \n"
   ]
  },
  {
   "cell_type": "code",
   "execution_count": null,
   "metadata": {},
   "outputs": [],
   "source": []
  },
  {
   "cell_type": "code",
   "execution_count": 18,
   "metadata": {},
   "outputs": [],
   "source": [
    "# Start Date for Walmart Data = 2/5/2010 or 05/02/2010\n",
    "# End Date for Walmart Data = 10/26/2012\n",
    "#print(cpiRaw)"
   ]
  },
  {
   "cell_type": "code",
   "execution_count": 31,
   "metadata": {},
   "outputs": [],
   "source": [
    "# Slice out the selected CPI months from February 2010 through October 2012\n",
    "cpi = cpiRaw.loc['Feb-10':'Oct-12', :]\n",
    "cpi.reset_index(inplace=True)\n",
    "#cpi['Date'] = ['Date'])\n",
    "\n",
    "#Slice only the Jobleess Claims dates from from February 2010 through October 2012\n",
    "JoblessClaims = joblessclaims.loc['6/2/2010':'27/10/2012', :]\n",
    "JoblessClaims = pd.DataFrame(JoblessClaims)\n",
    "\n",
    "# Convert to DateTime\n",
    "#cpi['Date'] = pd.to_datetime(cpi['Date'])\n",
    "JoblessClaims.reset_index(inplace=True)\n",
    "JoblessClaims['Date'] = pd.to_datetime(JoblessClaims['Date'])"
   ]
  },
  {
   "cell_type": "code",
   "execution_count": 32,
   "metadata": {},
   "outputs": [],
   "source": [
    "# len(cpi)\n",
    "# cpibins = cpi['Date']\n",
    "# print(cpibins)"
   ]
  },
  {
   "cell_type": "code",
   "execution_count": 43,
   "metadata": {},
   "outputs": [],
   "source": [
    "train_subset = train[:1000]"
   ]
  },
  {
   "cell_type": "code",
   "execution_count": 45,
   "metadata": {},
   "outputs": [
    {
     "name": "stderr",
     "output_type": "stream",
     "text": [
      "C:\\Users\\Bonew\\AppData\\Local\\Continuum\\anaconda3\\lib\\site-packages\\ipykernel_launcher.py:1: SettingWithCopyWarning: \n",
      "A value is trying to be set on a copy of a slice from a DataFrame.\n",
      "Try using .loc[row_indexer,col_indexer] = value instead\n",
      "\n",
      "See the caveats in the documentation: http://pandas.pydata.org/pandas-docs/stable/indexing.html#indexing-view-versus-copy\n",
      "  \"\"\"Entry point for launching an IPython kernel.\n"
     ]
    }
   ],
   "source": [
    "train_subset[\"datetime_Date\"] = pd.to_datetime(train_subset.Date)"
   ]
  },
  {
   "cell_type": "code",
   "execution_count": 47,
   "metadata": {},
   "outputs": [
    {
     "data": {
      "text/plain": [
       "Store                     int64\n",
       "Dept                      int64\n",
       "Date                     object\n",
       "Weekly_Sales            float64\n",
       "IsHoliday                  bool\n",
       "datetime_Date    datetime64[ns]\n",
       "dtype: object"
      ]
     },
     "execution_count": 47,
     "metadata": {},
     "output_type": "execute_result"
    }
   ],
   "source": [
    "train_subset.dtypes"
   ]
  },
  {
   "cell_type": "code",
   "execution_count": 50,
   "metadata": {},
   "outputs": [
    {
     "data": {
      "text/plain": [
       "0     2010-06-02\n",
       "1     2010-02-13\n",
       "2     2010-02-20\n",
       "3     2010-02-27\n",
       "4     2010-06-03\n",
       "5     2010-03-13\n",
       "6     2010-03-20\n",
       "7     2010-03-27\n",
       "8     2010-03-04\n",
       "9     2010-10-04\n",
       "10    2010-04-17\n",
       "11    2010-04-24\n",
       "12    2010-01-05\n",
       "13    2010-08-05\n",
       "14    2010-05-15\n",
       "15    2010-05-22\n",
       "16    2010-05-29\n",
       "17    2010-05-06\n",
       "18    2010-12-06\n",
       "19    2010-06-19\n",
       "20    2010-06-26\n",
       "21    2010-03-07\n",
       "22    2010-10-07\n",
       "23    2010-07-17\n",
       "24    2010-07-24\n",
       "25    2010-07-31\n",
       "26    2010-07-08\n",
       "27    2010-08-14\n",
       "28    2010-08-21\n",
       "29    2010-08-28\n",
       "         ...    \n",
       "113   2012-07-04\n",
       "114   2012-04-14\n",
       "115   2012-04-21\n",
       "116   2012-04-28\n",
       "117   2012-05-05\n",
       "118   2012-12-05\n",
       "119   2012-05-19\n",
       "120   2012-05-26\n",
       "121   2012-02-06\n",
       "122   2012-09-06\n",
       "123   2012-06-16\n",
       "124   2012-06-23\n",
       "125   2012-06-30\n",
       "126   2012-07-07\n",
       "127   2012-07-14\n",
       "128   2012-07-21\n",
       "129   2012-07-28\n",
       "130   2012-04-08\n",
       "131   2012-11-08\n",
       "132   2012-08-18\n",
       "133   2012-08-25\n",
       "134   2012-01-09\n",
       "135   2012-08-09\n",
       "136   2012-09-15\n",
       "137   2012-09-22\n",
       "138   2012-09-29\n",
       "139   2012-06-10\n",
       "140   2012-10-13\n",
       "141   2012-10-20\n",
       "142   2012-10-27\n",
       "Name: Date, Length: 143, dtype: datetime64[ns]"
      ]
     },
     "execution_count": 50,
     "metadata": {},
     "output_type": "execute_result"
    }
   ],
   "source": [
    "JoblessClaims.Date + datetime.timedelta(days=-1)"
   ]
  },
  {
   "cell_type": "code",
   "execution_count": 53,
   "metadata": {},
   "outputs": [],
   "source": [
    "JoblessClaims[\"Date_sub1\"] = JoblessClaims.Date + dt.timedelta(days=-1)"
   ]
  },
  {
   "cell_type": "code",
   "execution_count": 54,
   "metadata": {},
   "outputs": [
    {
     "data": {
      "text/html": [
       "<div>\n",
       "<style scoped>\n",
       "    .dataframe tbody tr th:only-of-type {\n",
       "        vertical-align: middle;\n",
       "    }\n",
       "\n",
       "    .dataframe tbody tr th {\n",
       "        vertical-align: top;\n",
       "    }\n",
       "\n",
       "    .dataframe thead th {\n",
       "        text-align: right;\n",
       "    }\n",
       "</style>\n",
       "<table border=\"1\" class=\"dataframe\">\n",
       "  <thead>\n",
       "    <tr style=\"text-align: right;\">\n",
       "      <th></th>\n",
       "      <th>Date</th>\n",
       "      <th>Claims</th>\n",
       "      <th>Date_sub1</th>\n",
       "    </tr>\n",
       "  </thead>\n",
       "  <tbody>\n",
       "    <tr>\n",
       "      <th>0</th>\n",
       "      <td>2010-06-02</td>\n",
       "      <td>512.463</td>\n",
       "      <td>2010-06-01</td>\n",
       "    </tr>\n",
       "    <tr>\n",
       "      <th>1</th>\n",
       "      <td>2010-02-13</td>\n",
       "      <td>482.078</td>\n",
       "      <td>2010-02-12</td>\n",
       "    </tr>\n",
       "    <tr>\n",
       "      <th>2</th>\n",
       "      <td>2010-02-20</td>\n",
       "      <td>458.16</td>\n",
       "      <td>2010-02-19</td>\n",
       "    </tr>\n",
       "    <tr>\n",
       "      <th>3</th>\n",
       "      <td>2010-02-27</td>\n",
       "      <td>474.662</td>\n",
       "      <td>2010-02-26</td>\n",
       "    </tr>\n",
       "    <tr>\n",
       "      <th>4</th>\n",
       "      <td>2010-06-03</td>\n",
       "      <td>462.679</td>\n",
       "      <td>2010-06-02</td>\n",
       "    </tr>\n",
       "  </tbody>\n",
       "</table>\n",
       "</div>"
      ],
      "text/plain": [
       "        Date   Claims  Date_sub1\n",
       "0 2010-06-02  512.463 2010-06-01\n",
       "1 2010-02-13  482.078 2010-02-12\n",
       "2 2010-02-20   458.16 2010-02-19\n",
       "3 2010-02-27  474.662 2010-02-26\n",
       "4 2010-06-03  462.679 2010-06-02"
      ]
     },
     "execution_count": 54,
     "metadata": {},
     "output_type": "execute_result"
    }
   ],
   "source": [
    "JoblessClaims.head()"
   ]
  },
  {
   "cell_type": "code",
   "execution_count": 59,
   "metadata": {},
   "outputs": [
    {
     "name": "stderr",
     "output_type": "stream",
     "text": [
      "C:\\Users\\Bonew\\AppData\\Local\\Continuum\\anaconda3\\lib\\site-packages\\ipykernel_launcher.py:1: SettingWithCopyWarning: \n",
      "A value is trying to be set on a copy of a slice from a DataFrame.\n",
      "Try using .loc[row_indexer,col_indexer] = value instead\n",
      "\n",
      "See the caveats in the documentation: http://pandas.pydata.org/pandas-docs/stable/indexing.html#indexing-view-versus-copy\n",
      "  \"\"\"Entry point for launching an IPython kernel.\n"
     ]
    }
   ],
   "source": [
    "cpi[\"cpi_datetime_parsed\"] = pd.to_datetime(cpi.Date, format=\"%b-%y\")"
   ]
  },
  {
   "cell_type": "code",
   "execution_count": 66,
   "metadata": {},
   "outputs": [],
   "source": [
    "JoblessClaims[\"jobless_firstofmonth\"] = JoblessClaims.apply(lambda x: x[\"Date_sub1\"].replace(day=1),axis=1)"
   ]
  },
  {
   "cell_type": "code",
   "execution_count": 75,
   "metadata": {},
   "outputs": [
    {
     "name": "stderr",
     "output_type": "stream",
     "text": [
      "C:\\Users\\Bonew\\AppData\\Local\\Continuum\\anaconda3\\lib\\site-packages\\ipykernel_launcher.py:1: SettingWithCopyWarning: \n",
      "A value is trying to be set on a copy of a slice from a DataFrame.\n",
      "Try using .loc[row_indexer,col_indexer] = value instead\n",
      "\n",
      "See the caveats in the documentation: http://pandas.pydata.org/pandas-docs/stable/indexing.html#indexing-view-versus-copy\n",
      "  \"\"\"Entry point for launching an IPython kernel.\n"
     ]
    },
    {
     "data": {
      "text/html": [
       "<div>\n",
       "<style scoped>\n",
       "    .dataframe tbody tr th:only-of-type {\n",
       "        vertical-align: middle;\n",
       "    }\n",
       "\n",
       "    .dataframe tbody tr th {\n",
       "        vertical-align: top;\n",
       "    }\n",
       "\n",
       "    .dataframe thead th {\n",
       "        text-align: right;\n",
       "    }\n",
       "</style>\n",
       "<table border=\"1\" class=\"dataframe\">\n",
       "  <thead>\n",
       "    <tr style=\"text-align: right;\">\n",
       "      <th></th>\n",
       "      <th>Date</th>\n",
       "      <th>Claims</th>\n",
       "      <th>Date_sub1</th>\n",
       "      <th>jobless_firstofmonth</th>\n",
       "    </tr>\n",
       "  </thead>\n",
       "  <tbody>\n",
       "    <tr>\n",
       "      <th>0</th>\n",
       "      <td>2010-06-02</td>\n",
       "      <td>512.463</td>\n",
       "      <td>2010-06-01</td>\n",
       "      <td>2010-06-01</td>\n",
       "    </tr>\n",
       "    <tr>\n",
       "      <th>1</th>\n",
       "      <td>2010-02-13</td>\n",
       "      <td>482.078</td>\n",
       "      <td>2010-02-12</td>\n",
       "      <td>2010-02-01</td>\n",
       "    </tr>\n",
       "    <tr>\n",
       "      <th>2</th>\n",
       "      <td>2010-02-20</td>\n",
       "      <td>458.16</td>\n",
       "      <td>2010-02-19</td>\n",
       "      <td>2010-02-01</td>\n",
       "    </tr>\n",
       "    <tr>\n",
       "      <th>3</th>\n",
       "      <td>2010-02-27</td>\n",
       "      <td>474.662</td>\n",
       "      <td>2010-02-26</td>\n",
       "      <td>2010-02-01</td>\n",
       "    </tr>\n",
       "    <tr>\n",
       "      <th>4</th>\n",
       "      <td>2010-06-03</td>\n",
       "      <td>462.679</td>\n",
       "      <td>2010-06-02</td>\n",
       "      <td>2010-06-01</td>\n",
       "    </tr>\n",
       "  </tbody>\n",
       "</table>\n",
       "</div>"
      ],
      "text/plain": [
       "        Date   Claims  Date_sub1 jobless_firstofmonth\n",
       "0 2010-06-02  512.463 2010-06-01           2010-06-01\n",
       "1 2010-02-13  482.078 2010-02-12           2010-02-01\n",
       "2 2010-02-20   458.16 2010-02-19           2010-02-01\n",
       "3 2010-02-27  474.662 2010-02-26           2010-02-01\n",
       "4 2010-06-03  462.679 2010-06-02           2010-06-01"
      ]
     },
     "execution_count": 75,
     "metadata": {},
     "output_type": "execute_result"
    }
   ],
   "source": [
    "train_subset['train_date'] = train_subset.apply(lambda x: x[\"datetime_Date\"].replace(day=1),axis=1)\n",
    "JoblessClaims.head()"
   ]
  },
  {
   "cell_type": "code",
   "execution_count": 76,
   "metadata": {
    "scrolled": true
   },
   "outputs": [
    {
     "data": {
      "text/html": [
       "<div>\n",
       "<style scoped>\n",
       "    .dataframe tbody tr th:only-of-type {\n",
       "        vertical-align: middle;\n",
       "    }\n",
       "\n",
       "    .dataframe tbody tr th {\n",
       "        vertical-align: top;\n",
       "    }\n",
       "\n",
       "    .dataframe thead th {\n",
       "        text-align: right;\n",
       "    }\n",
       "</style>\n",
       "<table border=\"1\" class=\"dataframe\">\n",
       "  <thead>\n",
       "    <tr style=\"text-align: right;\">\n",
       "      <th></th>\n",
       "      <th>Store</th>\n",
       "      <th>Dept</th>\n",
       "      <th>Date</th>\n",
       "      <th>Weekly_Sales</th>\n",
       "      <th>IsHoliday</th>\n",
       "      <th>datetime_Date</th>\n",
       "      <th>train_date</th>\n",
       "    </tr>\n",
       "  </thead>\n",
       "  <tbody>\n",
       "    <tr>\n",
       "      <th>0</th>\n",
       "      <td>1</td>\n",
       "      <td>1</td>\n",
       "      <td>2/5/2010</td>\n",
       "      <td>24924.50</td>\n",
       "      <td>False</td>\n",
       "      <td>2010-02-05</td>\n",
       "      <td>2010-02-01</td>\n",
       "    </tr>\n",
       "    <tr>\n",
       "      <th>1</th>\n",
       "      <td>1</td>\n",
       "      <td>1</td>\n",
       "      <td>2/12/2010</td>\n",
       "      <td>46039.49</td>\n",
       "      <td>True</td>\n",
       "      <td>2010-02-12</td>\n",
       "      <td>2010-02-01</td>\n",
       "    </tr>\n",
       "    <tr>\n",
       "      <th>2</th>\n",
       "      <td>1</td>\n",
       "      <td>1</td>\n",
       "      <td>2/19/2010</td>\n",
       "      <td>41595.55</td>\n",
       "      <td>False</td>\n",
       "      <td>2010-02-19</td>\n",
       "      <td>2010-02-01</td>\n",
       "    </tr>\n",
       "    <tr>\n",
       "      <th>3</th>\n",
       "      <td>1</td>\n",
       "      <td>1</td>\n",
       "      <td>2/26/2010</td>\n",
       "      <td>19403.54</td>\n",
       "      <td>False</td>\n",
       "      <td>2010-02-26</td>\n",
       "      <td>2010-02-01</td>\n",
       "    </tr>\n",
       "    <tr>\n",
       "      <th>4</th>\n",
       "      <td>1</td>\n",
       "      <td>1</td>\n",
       "      <td>3/5/2010</td>\n",
       "      <td>21827.90</td>\n",
       "      <td>False</td>\n",
       "      <td>2010-03-05</td>\n",
       "      <td>2010-03-01</td>\n",
       "    </tr>\n",
       "  </tbody>\n",
       "</table>\n",
       "</div>"
      ],
      "text/plain": [
       "   Store  Dept       Date  Weekly_Sales  IsHoliday datetime_Date train_date\n",
       "0      1     1   2/5/2010      24924.50      False    2010-02-05 2010-02-01\n",
       "1      1     1  2/12/2010      46039.49       True    2010-02-12 2010-02-01\n",
       "2      1     1  2/19/2010      41595.55      False    2010-02-19 2010-02-01\n",
       "3      1     1  2/26/2010      19403.54      False    2010-02-26 2010-02-01\n",
       "4      1     1   3/5/2010      21827.90      False    2010-03-05 2010-03-01"
      ]
     },
     "execution_count": 76,
     "metadata": {},
     "output_type": "execute_result"
    }
   ],
   "source": [
    "train_subset.head()"
   ]
  },
  {
   "cell_type": "code",
   "execution_count": 99,
   "metadata": {},
   "outputs": [
    {
     "name": "stdout",
     "output_type": "stream",
     "text": [
      "<class 'pandas.core.frame.DataFrame'>\n",
      "Int64Index: 1000 entries, 0 to 999\n",
      "Data columns (total 14 columns):\n",
      "Store                   1000 non-null int64\n",
      "Dept                    1000 non-null int64\n",
      "Date_x                  1000 non-null object\n",
      "Weekly_Sales            1000 non-null float64\n",
      "IsHoliday               1000 non-null bool\n",
      "datetime_Date           1000 non-null datetime64[ns]\n",
      "train_date              1000 non-null datetime64[ns]\n",
      "Date_y                  33 non-null object\n",
      "CPI                     33 non-null object\n",
      "cpi_datetime_parsed     33 non-null datetime64[ns]\n",
      "Date                    143 non-null datetime64[ns]\n",
      "Claims                  143 non-null object\n",
      "Date_sub1               143 non-null datetime64[ns]\n",
      "jobless_firstofmonth    143 non-null datetime64[ns]\n",
      "dtypes: bool(1), datetime64[ns](6), float64(1), int64(2), object(4)\n",
      "memory usage: 110.4+ KB\n"
     ]
    }
   ],
   "source": [
    "merge1 = pd.merge(train_subset, cpi, how='outer', left_index=True, right_index=True)\n",
    "merge2 = pd.merge(merge1, JoblessClaims, how='outer', left_index=True, right_index=True)\n",
    "merge2.info()"
   ]
  },
  {
   "cell_type": "code",
   "execution_count": 100,
   "metadata": {},
   "outputs": [
    {
     "ename": "AttributeError",
     "evalue": "Cannot access callable attribute 'groupby' of 'DataFrameGroupBy' objects, try using the 'apply' method",
     "output_type": "error",
     "traceback": [
      "\u001b[1;31m---------------------------------------------------------------------------\u001b[0m",
      "\u001b[1;31mAttributeError\u001b[0m                            Traceback (most recent call last)",
      "\u001b[1;32m<ipython-input-100-f1bc664d8cf7>\u001b[0m in \u001b[0;36m<module>\u001b[1;34m()\u001b[0m\n\u001b[1;32m----> 1\u001b[1;33m \u001b[0msales\u001b[0m\u001b[1;33m.\u001b[0m\u001b[0mgroupby\u001b[0m\u001b[1;33m(\u001b[0m\u001b[1;34m'cpi_datetime_parsed'\u001b[0m\u001b[1;33m)\u001b[0m\u001b[1;33m[\u001b[0m\u001b[1;34m'jobless_firstofmonth'\u001b[0m\u001b[1;33m]\u001b[0m\u001b[1;33m.\u001b[0m\u001b[0mapply\u001b[0m\u001b[1;33m(\u001b[0m\u001b[0mlist\u001b[0m\u001b[1;33m)\u001b[0m\u001b[1;33m\u001b[0m\u001b[0m\n\u001b[0m\u001b[0;32m      2\u001b[0m \u001b[1;31m# sales = merge2.groupby([merge2['cpi_datetime_parsed', 'jobless_firstofmonth', 'train_date'])\u001b[0m\u001b[1;33m\u001b[0m\u001b[1;33m\u001b[0m\u001b[0m\n\u001b[0;32m      3\u001b[0m \u001b[0msales\u001b[0m\u001b[1;33m.\u001b[0m\u001b[0mhead\u001b[0m\u001b[1;33m(\u001b[0m\u001b[1;33m)\u001b[0m\u001b[1;33m\u001b[0m\u001b[0m\n",
      "\u001b[1;32m~\\AppData\\Local\\Continuum\\anaconda3\\lib\\site-packages\\pandas\\core\\groupby\\groupby.py\u001b[0m in \u001b[0;36m__getattr__\u001b[1;34m(self, attr)\u001b[0m\n\u001b[0;32m    760\u001b[0m             \u001b[1;32mreturn\u001b[0m \u001b[0mself\u001b[0m\u001b[1;33m[\u001b[0m\u001b[0mattr\u001b[0m\u001b[1;33m]\u001b[0m\u001b[1;33m\u001b[0m\u001b[0m\n\u001b[0;32m    761\u001b[0m         \u001b[1;32mif\u001b[0m \u001b[0mhasattr\u001b[0m\u001b[1;33m(\u001b[0m\u001b[0mself\u001b[0m\u001b[1;33m.\u001b[0m\u001b[0mobj\u001b[0m\u001b[1;33m,\u001b[0m \u001b[0mattr\u001b[0m\u001b[1;33m)\u001b[0m\u001b[1;33m:\u001b[0m\u001b[1;33m\u001b[0m\u001b[0m\n\u001b[1;32m--> 762\u001b[1;33m             \u001b[1;32mreturn\u001b[0m \u001b[0mself\u001b[0m\u001b[1;33m.\u001b[0m\u001b[0m_make_wrapper\u001b[0m\u001b[1;33m(\u001b[0m\u001b[0mattr\u001b[0m\u001b[1;33m)\u001b[0m\u001b[1;33m\u001b[0m\u001b[0m\n\u001b[0m\u001b[0;32m    763\u001b[0m \u001b[1;33m\u001b[0m\u001b[0m\n\u001b[0;32m    764\u001b[0m         raise AttributeError(\"%r object has no attribute %r\" %\n",
      "\u001b[1;32m~\\AppData\\Local\\Continuum\\anaconda3\\lib\\site-packages\\pandas\\core\\groupby\\groupby.py\u001b[0m in \u001b[0;36m_make_wrapper\u001b[1;34m(self, name)\u001b[0m\n\u001b[0;32m    797\u001b[0m                    \"using the 'apply' method\".format(kind, name,\n\u001b[0;32m    798\u001b[0m                                                      type(self).__name__))\n\u001b[1;32m--> 799\u001b[1;33m             \u001b[1;32mraise\u001b[0m \u001b[0mAttributeError\u001b[0m\u001b[1;33m(\u001b[0m\u001b[0mmsg\u001b[0m\u001b[1;33m)\u001b[0m\u001b[1;33m\u001b[0m\u001b[0m\n\u001b[0m\u001b[0;32m    800\u001b[0m \u001b[1;33m\u001b[0m\u001b[0m\n\u001b[0;32m    801\u001b[0m         \u001b[0mself\u001b[0m\u001b[1;33m.\u001b[0m\u001b[0m_set_group_selection\u001b[0m\u001b[1;33m(\u001b[0m\u001b[1;33m)\u001b[0m\u001b[1;33m\u001b[0m\u001b[0m\n",
      "\u001b[1;31mAttributeError\u001b[0m: Cannot access callable attribute 'groupby' of 'DataFrameGroupBy' objects, try using the 'apply' method"
     ]
    }
   ],
   "source": [
    "sales.groupby('cpi_datetime_parsed')['jobless_firstofmonth'].apply(list)\n",
    "# sales = merge2.groupby([merge2['cpi_datetime_parsed', 'jobless_firstofmonth', 'train_date'])\n",
    "sales.head()"
   ]
  },
  {
   "cell_type": "code",
   "execution_count": 78,
   "metadata": {},
   "outputs": [],
   "source": [
    "new = pd.concat([cpi, JoblessClaims, train_subset], axis=0, sort=True)"
   ]
  },
  {
   "cell_type": "code",
   "execution_count": 80,
   "metadata": {},
   "outputs": [
    {
     "data": {
      "text/html": [
       "<div>\n",
       "<style scoped>\n",
       "    .dataframe tbody tr th:only-of-type {\n",
       "        vertical-align: middle;\n",
       "    }\n",
       "\n",
       "    .dataframe tbody tr th {\n",
       "        vertical-align: top;\n",
       "    }\n",
       "\n",
       "    .dataframe thead th {\n",
       "        text-align: right;\n",
       "    }\n",
       "</style>\n",
       "<table border=\"1\" class=\"dataframe\">\n",
       "  <thead>\n",
       "    <tr style=\"text-align: right;\">\n",
       "      <th></th>\n",
       "      <th>CPI</th>\n",
       "      <th>Claims</th>\n",
       "      <th>Date</th>\n",
       "      <th>Date_sub1</th>\n",
       "      <th>Dept</th>\n",
       "      <th>IsHoliday</th>\n",
       "      <th>Store</th>\n",
       "      <th>Weekly_Sales</th>\n",
       "      <th>cpi_datetime_parsed</th>\n",
       "      <th>datetime_Date</th>\n",
       "      <th>jobless_firstofmonth</th>\n",
       "      <th>train_date</th>\n",
       "    </tr>\n",
       "  </thead>\n",
       "  <tbody>\n",
       "    <tr>\n",
       "      <th>0</th>\n",
       "      <td>173.419</td>\n",
       "      <td>NaN</td>\n",
       "      <td>Feb-10</td>\n",
       "      <td>NaT</td>\n",
       "      <td>NaN</td>\n",
       "      <td>NaN</td>\n",
       "      <td>NaN</td>\n",
       "      <td>NaN</td>\n",
       "      <td>2010-02-01</td>\n",
       "      <td>NaT</td>\n",
       "      <td>NaT</td>\n",
       "      <td>NaT</td>\n",
       "    </tr>\n",
       "    <tr>\n",
       "      <th>1</th>\n",
       "      <td>174.798</td>\n",
       "      <td>NaN</td>\n",
       "      <td>Mar-10</td>\n",
       "      <td>NaT</td>\n",
       "      <td>NaN</td>\n",
       "      <td>NaN</td>\n",
       "      <td>NaN</td>\n",
       "      <td>NaN</td>\n",
       "      <td>2010-03-01</td>\n",
       "      <td>NaT</td>\n",
       "      <td>NaT</td>\n",
       "      <td>NaT</td>\n",
       "    </tr>\n",
       "    <tr>\n",
       "      <th>2</th>\n",
       "      <td>175.333</td>\n",
       "      <td>NaN</td>\n",
       "      <td>Apr-10</td>\n",
       "      <td>NaT</td>\n",
       "      <td>NaN</td>\n",
       "      <td>NaN</td>\n",
       "      <td>NaN</td>\n",
       "      <td>NaN</td>\n",
       "      <td>2010-04-01</td>\n",
       "      <td>NaT</td>\n",
       "      <td>NaT</td>\n",
       "      <td>NaT</td>\n",
       "    </tr>\n",
       "    <tr>\n",
       "      <th>3</th>\n",
       "      <td>175.333</td>\n",
       "      <td>NaN</td>\n",
       "      <td>May-10</td>\n",
       "      <td>NaT</td>\n",
       "      <td>NaN</td>\n",
       "      <td>NaN</td>\n",
       "      <td>NaN</td>\n",
       "      <td>NaN</td>\n",
       "      <td>2010-05-01</td>\n",
       "      <td>NaT</td>\n",
       "      <td>NaT</td>\n",
       "      <td>NaT</td>\n",
       "    </tr>\n",
       "    <tr>\n",
       "      <th>4</th>\n",
       "      <td>173.899</td>\n",
       "      <td>NaN</td>\n",
       "      <td>Jun-10</td>\n",
       "      <td>NaT</td>\n",
       "      <td>NaN</td>\n",
       "      <td>NaN</td>\n",
       "      <td>NaN</td>\n",
       "      <td>NaN</td>\n",
       "      <td>2010-06-01</td>\n",
       "      <td>NaT</td>\n",
       "      <td>NaT</td>\n",
       "      <td>NaT</td>\n",
       "    </tr>\n",
       "  </tbody>\n",
       "</table>\n",
       "</div>"
      ],
      "text/plain": [
       "       CPI Claims    Date Date_sub1  Dept IsHoliday  Store  Weekly_Sales  \\\n",
       "0  173.419    NaN  Feb-10       NaT   NaN       NaN    NaN           NaN   \n",
       "1  174.798    NaN  Mar-10       NaT   NaN       NaN    NaN           NaN   \n",
       "2  175.333    NaN  Apr-10       NaT   NaN       NaN    NaN           NaN   \n",
       "3  175.333    NaN  May-10       NaT   NaN       NaN    NaN           NaN   \n",
       "4  173.899    NaN  Jun-10       NaT   NaN       NaN    NaN           NaN   \n",
       "\n",
       "  cpi_datetime_parsed datetime_Date jobless_firstofmonth train_date  \n",
       "0          2010-02-01           NaT                  NaT        NaT  \n",
       "1          2010-03-01           NaT                  NaT        NaT  \n",
       "2          2010-04-01           NaT                  NaT        NaT  \n",
       "3          2010-05-01           NaT                  NaT        NaT  \n",
       "4          2010-06-01           NaT                  NaT        NaT  "
      ]
     },
     "execution_count": 80,
     "metadata": {},
     "output_type": "execute_result"
    }
   ],
   "source": [
    "new.head()"
   ]
  },
  {
   "cell_type": "code",
   "execution_count": null,
   "metadata": {},
   "outputs": [],
   "source": []
  },
  {
   "cell_type": "code",
   "execution_count": null,
   "metadata": {},
   "outputs": [],
   "source": [
    "new = new.dropna()\n",
    "print(new)"
   ]
  },
  {
   "cell_type": "code",
   "execution_count": null,
   "metadata": {},
   "outputs": [],
   "source": [
    "JobColNames = ['Date', 'Claims']\n",
    "joblessclaims = pd.read_csv('initial_joblessclaims.csv', parse_dates=True, index_col = 0, header = None, names=JobColNames)\n",
    "\n",
    "#Slice only the dates from the list\n",
    "JoblessClaims = joblessclaims.loc['6/2/2010':'27/10/2012', :]\n",
    "\n",
    "# Convert to DateTime\n",
    "#JoblessClaims = pd.to_datetime(joblessclaims['Unnamed: 0'], format='%d%m%y')"
   ]
  },
  {
   "cell_type": "code",
   "execution_count": null,
   "metadata": {},
   "outputs": [],
   "source": [
    "df11 = cpi.set_index(['Date','CPI'])\n",
    "df22 = joblessclaims.set_index(['Date','Claims'])\n",
    "\n",
    "df = df11.combine_first(df22).astype(int).reset_index()"
   ]
  },
  {
   "cell_type": "code",
   "execution_count": null,
   "metadata": {},
   "outputs": [],
   "source": [
    "    #joblessclaims.columns = ['Date', 'Jobless Claims']\n",
    "#joblessclaims = np.array(joblessclaims)\n"
   ]
  },
  {
   "cell_type": "code",
   "execution_count": null,
   "metadata": {},
   "outputs": [],
   "source": [
    "# # setup the dataframe\n",
    "# cpi = pd.read_csv(\"initial_joblessclaims.csv\", na_values=[\"0\"],\n",
    "#                 parse_dates=['Date'])\n",
    "# df.to_csv('new.csv', index=True, columns=fields)\n",
    "\n",
    "# dt = pd.date_range(\"08-11-2014\",\"08-27-2014\", index=True)\n",
    "# #idx = pd.DatetimeIndex(dt, index=True)"
   ]
  },
  {
   "cell_type": "code",
   "execution_count": null,
   "metadata": {},
   "outputs": [],
   "source": []
  },
  {
   "cell_type": "code",
   "execution_count": null,
   "metadata": {},
   "outputs": [],
   "source": [
    "cpi.append[\"Column\"]"
   ]
  },
  {
   "cell_type": "code",
   "execution_count": null,
   "metadata": {},
   "outputs": [],
   "source": [
    "# Use for loop to search for the month to correspond to dates in \"train\" and \"joblesssclaims\".  "
   ]
  }
 ],
 "metadata": {
  "kernelspec": {
   "display_name": "Python 3",
   "language": "python",
   "name": "python3"
  },
  "language_info": {
   "codemirror_mode": {
    "name": "ipython",
    "version": 3
   },
   "file_extension": ".py",
   "mimetype": "text/x-python",
   "name": "python",
   "nbconvert_exporter": "python",
   "pygments_lexer": "ipython3",
   "version": "3.6.5"
  }
 },
 "nbformat": 4,
 "nbformat_minor": 2
}
